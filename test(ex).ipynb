{
 "cells": [
  {
   "cell_type": "code",
   "execution_count": 5,
   "id": "4d6cf816-2592-4b29-bf9a-5447d18cc36f",
   "metadata": {},
   "outputs": [
    {
     "ename": "SyntaxError",
     "evalue": "invalid syntax (474514581.py, line 4)",
     "output_type": "error",
     "traceback": [
      "\u001b[0;36m  Cell \u001b[0;32mIn[5], line 4\u001b[0;36m\u001b[0m\n\u001b[0;31m    execute:\u001b[0m\n\u001b[0m             ^\u001b[0m\n\u001b[0;31mSyntaxError\u001b[0m\u001b[0;31m:\u001b[0m invalid syntax\n"
     ]
    }
   ],
   "source": [
    "\n",
    "title: \"에너지사용량 자료 분석\"\n",
    "author: \"본인이름~\"\n",
    "format: dashboard\n",
    "execute: \n",
    "  enabled: true\n",
    "  cache: false\n",
    "  freeze: false\n",
    "  error: true\n"
   ]
  },
  {
   "cell_type": "code",
   "execution_count": 4,
   "id": "aac05069-ec66-4806-b178-fead5da4e7c4",
   "metadata": {},
   "outputs": [
    {
     "name": "stderr",
     "output_type": "stream",
     "text": [
      "/tmp/ipykernel_725/1516935476.py:22: FutureWarning: DataFrame.applymap has been deprecated. Use DataFrame.map instead.\n",
      "  .set_index(['년도','시도','지역']).applymap(lambda x: int(str(x).replace(',','')))\\\n"
     ]
    }
   ],
   "source": [
    "import numpy as np\n",
    "import pandas as pd\n",
    "import plotly.express as px\n",
    "import plotly.io as pio\n",
    "import json\n",
    "import requests\n",
    "\n",
    "pd.options.plotting.backend = \"plotly\"\n",
    "pio.templates.default = \"plotly_white\"\n",
    "\n",
    "global_dict = json.loads(requests.get('https://raw.githubusercontent.com/southkorea/southkorea-maps/master/kostat/2018/json/skorea-provinces-2018-geo.json').text)\n",
    "local_dict = json.loads(requests.get('https://raw.githubusercontent.com/southkorea/southkorea-maps/master/kostat/2018/json/skorea-municipalities-2018-geo.json').text)\n",
    "#--#\n",
    "url = 'https://raw.githubusercontent.com/guebin/DV2022/main/posts/Energy/{}.csv'\n",
    "prov = ['Seoul', 'Busan', 'Daegu', 'Incheon', \n",
    "        'Gwangju', 'Daejeon', 'Ulsan', 'Sejongsi', \n",
    "        'Gyeonggi-do', 'Gangwon-do', 'Chungcheongbuk-do', \n",
    "        'Chungcheongnam-do', 'Jeollabuk-do', 'Jeollanam-do', \n",
    "        'Gyeongsangbuk-do', 'Gyeongsangnam-do', 'Jeju-do']\n",
    "df = pd.concat([pd.read_csv(url.format(p+y)).assign(년도=y, 시도=p) for p in prov for y in ['2018', '2019', '2020', '2021']]).reset_index(drop=True)\\\n",
    ".assign(년도 = lambda df: df.년도.astype(int))\\\n",
    ".set_index(['년도','시도','지역']).applymap(lambda x: int(str(x).replace(',','')))\\\n",
    ".reset_index()\n",
    "df_global = pd.DataFrame([l['properties'] for l in global_dict['features']])\n",
    "df_local = pd.DataFrame([l['properties'] for l in local_dict['features']])\n",
    "df_json = df_local.set_index('name')\\\n",
    ".rename(\n",
    "    {name:name.split('시')[-1] for name in df_local['name'] if ('시' in name) and ('구' in name) and (len(name)>3)}\n",
    ").reset_index()\\\n",
    ".drop(['base_year','name_eng'],axis=1)\\\n",
    ".rename({'name':'name_local','code':'code_local'},axis=1)\\\n",
    ".assign(code = lambda df: df['code_local'].str[:2])\\\n",
    ".merge(df_global.drop(['base_year','name_eng'],axis=1))\n",
    "df_left = df.assign(\n",
    "    시도 = lambda df: df.시도.map({l['properties']['name_eng']:l['properties']['name'] for l in global_dict['features']})\n",
    ").assign(on = lambda df: df.시도 + '-' + df.지역)\n",
    "df_right = df_json.assign(on = lambda df: df.name + '-' + df.name_local)\\\n",
    ".drop(['name_local','name'],axis=1)\n",
    "df2 = df_left.merge(\n",
    "    df_right.set_index('on')\\\n",
    "    .rename({'인천광역시-남구':'인천광역시-미추홀구'})\\\n",
    "    .reset_index()\n",
    ").drop(['on'],axis=1)"
   ]
  },
  {
   "cell_type": "code",
   "execution_count": 6,
   "id": "64105685-0766-4b75-9108-c44c26cd5f95",
   "metadata": {},
   "outputs": [],
   "source": [
    "# 데이터탐색"
   ]
  },
  {
   "cell_type": "code",
   "execution_count": 8,
   "id": "16506c48-69bc-4868-a11b-b323adc85a48",
   "metadata": {},
   "outputs": [
    {
     "name": "stdout",
     "output_type": "stream",
     "text": [
      "Collecting itables\n",
      "  Downloading itables-1.6.3-py3-none-any.whl.metadata (6.2 kB)\n",
      "Requirement already satisfied: IPython in /root/anaconda3/envs/dv2023/lib/python3.10/site-packages (from itables) (8.18.1)\n",
      "Requirement already satisfied: pandas in /root/anaconda3/envs/dv2023/lib/python3.10/site-packages (from itables) (2.1.3)\n",
      "Requirement already satisfied: numpy in /root/anaconda3/envs/dv2023/lib/python3.10/site-packages (from itables) (1.26.2)\n",
      "Requirement already satisfied: decorator in /root/anaconda3/envs/dv2023/lib/python3.10/site-packages (from IPython->itables) (5.1.1)\n",
      "Requirement already satisfied: jedi>=0.16 in /root/anaconda3/envs/dv2023/lib/python3.10/site-packages (from IPython->itables) (0.19.1)\n",
      "Requirement already satisfied: matplotlib-inline in /root/anaconda3/envs/dv2023/lib/python3.10/site-packages (from IPython->itables) (0.1.6)\n",
      "Requirement already satisfied: prompt-toolkit<3.1.0,>=3.0.41 in /root/anaconda3/envs/dv2023/lib/python3.10/site-packages (from IPython->itables) (3.0.41)\n",
      "Requirement already satisfied: pygments>=2.4.0 in /root/anaconda3/envs/dv2023/lib/python3.10/site-packages (from IPython->itables) (2.17.2)\n",
      "Requirement already satisfied: stack-data in /root/anaconda3/envs/dv2023/lib/python3.10/site-packages (from IPython->itables) (0.6.2)\n",
      "Requirement already satisfied: traitlets>=5 in /root/anaconda3/envs/dv2023/lib/python3.10/site-packages (from IPython->itables) (5.14.0)\n",
      "Requirement already satisfied: exceptiongroup in /root/anaconda3/envs/dv2023/lib/python3.10/site-packages (from IPython->itables) (1.2.0)\n",
      "Requirement already satisfied: pexpect>4.3 in /root/anaconda3/envs/dv2023/lib/python3.10/site-packages (from IPython->itables) (4.8.0)\n",
      "Requirement already satisfied: python-dateutil>=2.8.2 in /root/anaconda3/envs/dv2023/lib/python3.10/site-packages (from pandas->itables) (2.8.2)\n",
      "Requirement already satisfied: pytz>=2020.1 in /root/anaconda3/envs/dv2023/lib/python3.10/site-packages (from pandas->itables) (2023.3.post1)\n",
      "Requirement already satisfied: tzdata>=2022.1 in /root/anaconda3/envs/dv2023/lib/python3.10/site-packages (from pandas->itables) (2023.3)\n",
      "Requirement already satisfied: parso<0.9.0,>=0.8.3 in /root/anaconda3/envs/dv2023/lib/python3.10/site-packages (from jedi>=0.16->IPython->itables) (0.8.3)\n",
      "Requirement already satisfied: ptyprocess>=0.5 in /root/anaconda3/envs/dv2023/lib/python3.10/site-packages (from pexpect>4.3->IPython->itables) (0.7.0)\n",
      "Requirement already satisfied: wcwidth in /root/anaconda3/envs/dv2023/lib/python3.10/site-packages (from prompt-toolkit<3.1.0,>=3.0.41->IPython->itables) (0.2.12)\n",
      "Requirement already satisfied: six>=1.5 in /root/anaconda3/envs/dv2023/lib/python3.10/site-packages (from python-dateutil>=2.8.2->pandas->itables) (1.16.0)\n",
      "Requirement already satisfied: executing>=1.2.0 in /root/anaconda3/envs/dv2023/lib/python3.10/site-packages (from stack-data->IPython->itables) (2.0.1)\n",
      "Requirement already satisfied: asttokens>=2.1.0 in /root/anaconda3/envs/dv2023/lib/python3.10/site-packages (from stack-data->IPython->itables) (2.4.1)\n",
      "Requirement already satisfied: pure-eval in /root/anaconda3/envs/dv2023/lib/python3.10/site-packages (from stack-data->IPython->itables) (0.2.2)\n",
      "Downloading itables-1.6.3-py3-none-any.whl (200 kB)\n",
      "\u001b[2K   \u001b[90m━━━━━━━━━━━━━━━━━━━━━━━━━━━━━━━━━━━━━━━━\u001b[0m \u001b[32m200.9/200.9 kB\u001b[0m \u001b[31m10.4 MB/s\u001b[0m eta \u001b[36m0:00:00\u001b[0m\n",
      "\u001b[?25hInstalling collected packages: itables\n",
      "Successfully installed itables-1.6.3\n",
      "\u001b[33mWARNING: Running pip as the 'root' user can result in broken permissions and conflicting behaviour with the system package manager. It is recommended to use a virtual environment instead: https://pip.pypa.io/warnings/venv\u001b[0m\u001b[33m\n",
      "\u001b[0mNote: you may need to restart the kernel to use updated packages.\n"
     ]
    }
   ],
   "source": [
    "pip install itables"
   ]
  },
  {
   "cell_type": "code",
   "execution_count": 7,
   "id": "675955f5-7111-4f6f-9875-ee733c2d04c4",
   "metadata": {},
   "outputs": [
    {
     "ename": "ModuleNotFoundError",
     "evalue": "No module named 'itables'",
     "output_type": "error",
     "traceback": [
      "\u001b[0;31m---------------------------------------------------------------------------\u001b[0m",
      "\u001b[0;31mModuleNotFoundError\u001b[0m                       Traceback (most recent call last)",
      "Cell \u001b[0;32mIn[7], line 2\u001b[0m\n\u001b[1;32m      1\u001b[0m \u001b[38;5;66;03m#| title: 에너지사용량 자료 \u001b[39;00m\n\u001b[0;32m----> 2\u001b[0m \u001b[38;5;28;01mimport\u001b[39;00m \u001b[38;5;21;01mitables\u001b[39;00m \n\u001b[1;32m      3\u001b[0m itables\u001b[38;5;241m.\u001b[39mshow(df2,showIndex\u001b[38;5;241m=\u001b[39m\u001b[38;5;28;01mFalse\u001b[39;00m)\n",
      "\u001b[0;31mModuleNotFoundError\u001b[0m: No module named 'itables'"
     ]
    }
   ],
   "source": [
    "#| title: 에너지사용량 자료 \n",
    "import itables \n",
    "itables.show(df2,showIndex=False)"
   ]
  },
  {
   "cell_type": "code",
   "execution_count": 1,
   "id": "5c89d43f-dd50-4065-b493-4ee305404997",
   "metadata": {},
   "outputs": [
    {
     "ename": "SyntaxError",
     "evalue": "invalid syntax (2624020780.py, line 1)",
     "output_type": "error",
     "traceback": [
      "\u001b[0;36m  Cell \u001b[0;32mIn[1], line 1\u001b[0;36m\u001b[0m\n\u001b[0;31m    ---\u001b[0m\n\u001b[0m       ^\u001b[0m\n\u001b[0;31mSyntaxError\u001b[0m\u001b[0;31m:\u001b[0m invalid syntax\n"
     ]
    }
   ],
   "source": [
    "\n",
    "\n",
    "```\n",
    "\n",
    "# 시각화 {orientation=\"columns\" scrolling=\"true\"}\n",
    "\n",
    "## Column {width=50%}\n",
    "\n",
    "```{python}\n",
    "#| title: 2018년도 전기사용량 (전국)\n",
    "fig = px.choropleth_mapbox(\n",
    "    geojson = local_dict,\n",
    "    featureidkey = 'properties.code',\n",
    "    data_frame = df2.query('년도 == 2018'),\n",
    "    locations = 'code_local',\n",
    "    color = '에너지사용량(TOE)/전기',\n",
    "    hover_data = ['시도','지역'],\n",
    "    #---#\n",
    "    mapbox_style=\"carto-positron\",\n",
    "    range_color = [0,200000],\n",
    "    center={\"lat\": 36, \"lon\": 127.5}, \n",
    "    zoom=6,\n",
    ")\n",
    "fig.show(config={'scrollZoom':False})\n",
    "```\n",
    "\n",
    "## Column {width=50%}\n",
    "\n",
    "```{python}\n",
    "#| title: 2018~2019년도 전기사용량 (서울)\n",
    "seoul_dict = local_dict.copy() \n",
    "seoul_dict['features'] = [l for l in seoul_dict['features'] if l['properties']['code'][:2] == '11']\n",
    "fig = px.choropleth_mapbox(\n",
    "    geojson = seoul_dict,\n",
    "    featureidkey = 'properties.code',\n",
    "    data_frame = df2,\n",
    "    locations = 'code_local',\n",
    "    color = '에너지사용량(TOE)/전기',\n",
    "    animation_frame= '년도',\n",
    "    hover_data = ['시도','지역'],\n",
    "    #---#\n",
    "    mapbox_style=\"carto-positron\",\n",
    "    range_color = [0,400000],\n",
    "    center={\"lat\": 37.5642135, \"lon\": 127.0016985},\n",
    "    zoom=9,\n",
    ")\n",
    "fig.show(config={'scrollZoom':False})\n",
    "```\n",
    "\n",
    "```{python}\n",
    "#| title: 2018~2019년도 에너지사용량 (전국)\n",
    "fig = df2.drop(['code_local','code'],axis=1)\\\n",
    ".set_index(['년도','시도','지역','건물동수','연면적']).stack().reset_index()\\\n",
    ".rename({'level_5':'에너지종류', 0:'에너지사용량'},axis=1)\\\n",
    ".assign(에너지종류 = lambda df: df['에너지종류'].str.split('/').str[-1])\\\n",
    ".groupby(['년도','시도','에너지종류']).agg({'에너지사용량':'sum'})\\\n",
    ".stack().reset_index()\\\n",
    ".rename({0:'에너지사용량'},axis=1)\\\n",
    ".plot.area(\n",
    "    x='년도',y='에너지사용량',\n",
    "    color='시도',\n",
    "    facet_col='에너지종류'\n",
    ")\n",
    "fig.update_layout(\n",
    "    xaxis_domain=[0.0, 0.25],\n",
    "    xaxis2_domain=[0.35, 0.60],\n",
    "    xaxis3_domain=[0.70, 0.95]\n",
    ")\n",
    "```"
   ]
  },
  {
   "cell_type": "code",
   "execution_count": null,
   "id": "25a1e6ba-6a23-438b-8d3a-4e55f17b1cd4",
   "metadata": {},
   "outputs": [],
   "source": []
  },
  {
   "cell_type": "code",
   "execution_count": null,
   "id": "9a27a129-d773-4758-8366-09e24f637d56",
   "metadata": {},
   "outputs": [],
   "source": []
  },
  {
   "cell_type": "code",
   "execution_count": null,
   "id": "8e361c3b-d657-4dc5-88cb-3b68d44fa03a",
   "metadata": {},
   "outputs": [],
   "source": []
  }
 ],
 "metadata": {
  "kernelspec": {
   "display_name": "Python 3 (ipykernel)",
   "language": "python",
   "name": "python3"
  },
  "language_info": {
   "codemirror_mode": {
    "name": "ipython",
    "version": 3
   },
   "file_extension": ".py",
   "mimetype": "text/x-python",
   "name": "python",
   "nbconvert_exporter": "python",
   "pygments_lexer": "ipython3",
   "version": "3.10.13"
  }
 },
 "nbformat": 4,
 "nbformat_minor": 5
}
